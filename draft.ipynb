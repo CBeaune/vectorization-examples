{
 "cells": [
  {
   "cell_type": "code",
   "execution_count": 27,
   "metadata": {},
   "outputs": [],
   "source": [
    "import numpy as np\n",
    "import matplotlib.pyplot as plt\n",
    "from typing import List, Tuple\n",
    "from time import time"
   ]
  },
  {
   "attachments": {},
   "cell_type": "markdown",
   "metadata": {},
   "source": [
    "# 1. Index by boolean"
   ]
  },
  {
   "cell_type": "code",
   "execution_count": 3,
   "metadata": {},
   "outputs": [
    {
     "name": "stdout",
     "output_type": "stream",
     "text": [
      "a:  [0 1 2 3 4 5 6 7 8 9]\n"
     ]
    }
   ],
   "source": [
    "a = np.arange(10)\n",
    "print('a: ', a)"
   ]
  },
  {
   "attachments": {},
   "cell_type": "markdown",
   "metadata": {},
   "source": [
    "## Take elements of `a` that satisfy a condition:\n",
    "```\n",
    "a[i] > 5\n",
    "```\n",
    "### Sequential"
   ]
  },
  {
   "cell_type": "code",
   "execution_count": 4,
   "metadata": {},
   "outputs": [
    {
     "name": "stdout",
     "output_type": "stream",
     "text": [
      "out:  [6, 7, 8, 9]\n"
     ]
    }
   ],
   "source": [
    "out = []\n",
    "for element in a:\n",
    "    if element > 5:\n",
    "        out.append(element)\n",
    "\n",
    "print('out: ', out)"
   ]
  },
  {
   "attachments": {},
   "cell_type": "markdown",
   "metadata": {},
   "source": [
    "### Vectorized"
   ]
  },
  {
   "cell_type": "code",
   "execution_count": 5,
   "metadata": {},
   "outputs": [
    {
     "name": "stdout",
     "output_type": "stream",
     "text": [
      "out:  [6 7 8 9]\n"
     ]
    }
   ],
   "source": [
    "out = a[a > 5]\n",
    "print('out: ', out)"
   ]
  },
  {
   "attachments": {},
   "cell_type": "markdown",
   "metadata": {},
   "source": [
    "### refer to `apply_se3.py` for a more elaborated example"
   ]
  },
  {
   "attachments": {},
   "cell_type": "markdown",
   "metadata": {},
   "source": [
    "# 2. Meshgrid\n",
    "\n",
    "for defining a surface -> to visualize loss function z = f(x, y)\n",
    "\n",
    "![alt text](1xeW8.png \"A Grid\")"
   ]
  },
  {
   "attachments": {},
   "cell_type": "markdown",
   "metadata": {},
   "source": [
    "## Sequential"
   ]
  },
  {
   "cell_type": "code",
   "execution_count": 12,
   "metadata": {},
   "outputs": [
    {
     "data": {
      "image/png": "[encoded data removed]",
      "text/plain": [
       "<Figure size 432x288 with 1 Axes>"
      ]
     },
     "metadata": {
      "needs_background": "light"
     },
     "output_type": "display_data"
    }
   ],
   "source": [
    "xs = np.arange(5)\n",
    "ys = np.arange(5)\n",
    "\n",
    "mat_x, mat_y = list(), list()\n",
    "\n",
    "for y in xs:\n",
    "    for x in ys:\n",
    "        mat_x.append(x)\n",
    "        mat_y.append(y)\n",
    "\n",
    "fig, ax = plt.subplots()\n",
    "_ = ax.scatter(mat_x, mat_y)\n",
    "_ = ax.set_xticks(xs)\n",
    "_ = ax.set_yticks(ys)"
   ]
  },
  {
   "attachments": {},
   "cell_type": "markdown",
   "metadata": {},
   "source": [
    "## Vectorized \n",
    "\n",
    "in matrix coordinate system\n",
    "\n",
    " ------------------------> x-axis (dim=1, column)\\\n",
    "  |\\\n",
    "  |\\\n",
    "  |\\\n",
    "v\\\n",
    "y-axis (dim=0, row)"
   ]
  },
  {
   "cell_type": "code",
   "execution_count": 15,
   "metadata": {},
   "outputs": [
    {
     "name": "stdout",
     "output_type": "stream",
     "text": [
      "yy:\n",
      " [[0 0 0 0 0]\n",
      " [1 1 1 1 1]\n",
      " [2 2 2 2 2]\n",
      " [3 3 3 3 3]\n",
      " [4 4 4 4 4]]\n",
      "xx:\n",
      " [[0 1 2 3 4]\n",
      " [0 1 2 3 4]\n",
      " [0 1 2 3 4]\n",
      " [0 1 2 3 4]\n",
      " [0 1 2 3 4]]\n"
     ]
    }
   ],
   "source": [
    "yy, xx = np.meshgrid(ys, xs, indexing='ij')\n",
    "# Note: use indexing='ij' to signify that we are using matrix coordinate\n",
    "print('yy:\\n', yy)\n",
    "print('xx:\\n', xx)"
   ]
  },
  {
   "cell_type": "code",
   "execution_count": 17,
   "metadata": {},
   "outputs": [
    {
     "name": "stdout",
     "output_type": "stream",
     "text": [
      "all_x:\n",
      " [0 1 2 3 4 0 1 2 3 4 0 1 2 3 4 0 1 2 3 4 0 1 2 3 4]\n"
     ]
    },
    {
     "data": {
      "image/png": "[encoded data removed]",
      "text/plain": [
       "<Figure size 432x288 with 1 Axes>"
      ]
     },
     "metadata": {
      "needs_background": "light"
     },
     "output_type": "display_data"
    }
   ],
   "source": [
    "all_x = xx.reshape(-1)\n",
    "print('all_x:\\n', all_x)\n",
    "all_y = yy.reshape(-1)\n",
    "fig, ax = plt.subplots()\n",
    "_ = ax.scatter(all_x, all_y)\n",
    "_ = ax.set_xticks(xs)\n",
    "_ = ax.set_yticks(ys)"
   ]
  },
  {
   "attachments": {},
   "cell_type": "markdown",
   "metadata": {},
   "source": [
    "## Make a surface\n",
    "\n",
    "Normal distribution $\\mathcal{N} \\left(\\mu, ~\\Sigma \\right)$\n",
    "\n",
    "pdf = $\\left(2 \\pi \\right)^{-1} \\det \\left(\\Sigma \\right)^{-1/2} \\exp\\left(-\\frac{1}{2}\\left(\\mathbf{x} - \\mu\\right)^T \\Sigma^{-1} \\left(\\mathbf{x} - \\mu\\right) \\right)$\n",
    "\n",
    "with\\\n",
    "$\\mu = \\begin{bmatrix} 0 \\\\ 0 \\end{bmatrix}$\n",
    "\n",
    "$\\Sigma = \\begin{bmatrix}\n",
    "1 & 3/5 \\\\\n",
    "3/5 & 2\n",
    "\\end{bmatrix}$"
   ]
  },
  {
   "cell_type": "code",
   "execution_count": 41,
   "metadata": {},
   "outputs": [],
   "source": [
    "sigma = np.array([\n",
    "    [1., 0.6],\n",
    "    [0.6, 2.]\n",
    "])\n",
    "\n",
    "mu = np.zeros(2)\n",
    "\n",
    "scale = 1.0 / (np.sqrt(np.linalg.det(sigma)) * 2.0 * np.pi)\n",
    "\n",
    "step = 0.1\n",
    "xs = np.arange(-5, 5, step=step)\n",
    "ys = np.arange(-5, 5, step=step)\n",
    "yy, xx = np.meshgrid(ys, xs, indexing='ij')"
   ]
  },
  {
   "cell_type": "code",
   "execution_count": 42,
   "metadata": {},
   "outputs": [
    {
     "name": "stdout",
     "output_type": "stream",
     "text": [
      "grid_xy @ location (x=0, y=1):  [-5.  -4.9]\n"
     ]
    }
   ],
   "source": [
    "# xx: (M, N)\n",
    "# yy: (M, N)\n",
    "# merge_xx_yy -> (M, N, 2) - (2) := x, y !!! not y, x\n",
    "grid_xy = np.concatenate([xx[..., np.newaxis], yy[..., np.newaxis]], axis=-1)\n",
    "\n",
    "print('grid_xy @ location (x=0, y=1): ', grid_xy[1, 0])"
   ]
  },
  {
   "attachments": {},
   "cell_type": "markdown",
   "metadata": {},
   "source": [
    "## Batch matrix multiplication using np.einsum"
   ]
  },
  {
   "cell_type": "code",
   "execution_count": 43,
   "metadata": {},
   "outputs": [
    {
     "name": "stdout",
     "output_type": "stream",
     "text": [
      "pre_exp.shape:  (100, 100)\n",
      "pdf.shape:  (100, 100)\n"
     ]
    }
   ],
   "source": [
    "pre_exp = -0.5 * np.einsum('mni, ij, mnj -> mn', grid_xy, np.linalg.inv(sigma), grid_xy)\n",
    "print('pre_exp.shape: ', pre_exp.shape)\n",
    "\n",
    "pdf = scale * np.exp(pre_exp)\n",
    "print('pdf.shape: ', pdf.shape)"
   ]
  },
  {
   "cell_type": "code",
   "execution_count": 45,
   "metadata": {},
   "outputs": [
    {
     "data": {
      "image/png": "[encoded data removed]",
      "text/plain": [
       "<Figure size 432x288 with 1 Axes>"
      ]
     },
     "metadata": {
      "needs_background": "light"
     },
     "output_type": "display_data"
    }
   ],
   "source": [
    "fig = plt.figure()\n",
    "ax = fig.add_subplot(111, projection='3d')\n",
    "_ = ax.plot_surface(xx, yy, pdf)"
   ]
  },
  {
   "attachments": {},
   "cell_type": "markdown",
   "metadata": {},
   "source": [
    "# 3. Broadcasting\n",
    "\n",
    "## A simple approach to multi-object tracking using Bipartite Matching\n",
    "\n",
    "Given a set of prediction $\\mathcal{P} = \\{\\mathbf{p}_i | i = 1, ..., T\\}$, and a set of detection $\\mathcal{D} = \\{\\mathbf{d}_j | j = 1, ..., D\\}$, \n",
    "find the corresponding detection of each prediction \n",
    "\n",
    "Condition: \\\n",
    "i. two prediction can't have the same detection \\\n",
    "ii. a valid match $\\left(\\mathbf{p}_i, \\mathbf{d}_j\\right)$ must have distance < a threshold: $|| \\mathbf{p}_i - \\mathbf{d}_j ||_{2} < \\tau$"
   ]
  },
  {
   "attachments": {},
   "cell_type": "markdown",
   "metadata": {},
   "source": [
    "## Greedy Association\n",
    "1. for each $\\mathbf{p}_i$ compute its distance to every $\\mathbf{d}_j$, then store the distance in an array $\\mathbf{C}$\n",
    "2. sort $\\mathbf{C}$ in ascending order\n",
    "\n",
    "3. matched_prediction = {}, matched_detection = {}, matches: List[Tuple[int, int]] = []\n",
    "\n",
    "4. for $c_h$ in $\\mathbf{C}$:\n",
    "5.      find the index i and j of the prediction and the detection that produce c_h\n",
    "6.      if i & j haven't been seen before:\n",
    "7.          add i to matched_prediction\n",
    "8.          add j to matched_detection\n",
    "9.          add (i, j) to matches\n",
    "\n",
    "10. return matches\n",
    "11. [optinal] return unmatched prediction and unmatched detection"
   ]
  },
  {
   "attachments": {},
   "cell_type": "markdown",
   "metadata": {},
   "source": [
    "## Implementation"
   ]
  },
  {
   "cell_type": "code",
   "execution_count": 24,
   "metadata": {
    "tags": []
   },
   "outputs": [],
   "source": [
    "def greedy(pred: np.ndarray, det: np.ndarray, threshold: float, mode='vectorized') -> List[Tuple[int]]:\n",
    "    \"\"\"\n",
    "    Greedy association for solving pipartite matching\n",
    "\n",
    "    Args:\n",
    "        pred: (T, 3) - x, y, z\n",
    "        det: (M, 3) - x, y, z\n",
    "        threshold: valid matches must have distance < threshold\n",
    "\n",
    "    Returns:\n",
    "        matches: List[(index of pred, index of det)] \n",
    "    \"\"\"\n",
    "    if mode == 'vectorized':\n",
    "        cost = pred[:, np.newaxis] - det[np.newaxis]  # (T, 1, 3) - (1, D, 3) -> (T, D, 3)\n",
    "        cost = np.linalg.norm(cost, axis=2)  # (T, D)\n",
    "        # flatten cost\n",
    "        cost = cost.reshape(-1)  # (T * D,)\n",
    "    else:\n",
    "        # sequential\n",
    "        cost = list()\n",
    "        for p in pred:\n",
    "            for d in det:\n",
    "                cost.append(np.linalg.norm(p - d))\n",
    "    \n",
    "    # sort\n",
    "    sorted_flatten_indices = np.argsort(cost)\n",
    "\n",
    "    # find match\n",
    "    matched_pred, matched_det = set(), set()\n",
    "    matches = list()\n",
    "    num_det = det.shape[0]\n",
    "    for cost_index in sorted_flatten_indices:\n",
    "        # early stopping condition\n",
    "        if cost[cost_index] > threshold:\n",
    "            break\n",
    "\n",
    "        # compute pred's index & det's index from cost_index\n",
    "        # cost_index = pred_idx * num_det + det_idx\n",
    "        pred_idx = cost_index // num_det\n",
    "        det_idx = cost_index % num_det\n",
    "        if pred_idx in matched_pred or det_idx in matched_det:\n",
    "            continue\n",
    "        else:\n",
    "            if cost[cost_index] < threshold:\n",
    "                matched_pred.add(pred_idx)\n",
    "                matched_det.add(det_idx)\n",
    "                matches.append((pred_idx, det_idx))\n",
    "\n",
    "    return matches\n"
   ]
  },
  {
   "attachments": {},
   "cell_type": "markdown",
   "metadata": {},
   "source": [
    "## Let's try it out\n",
    "Prediction\\\n",
    "![alt text](pred.png \"Title\")\n",
    "\n",
    "$\\mathbf{P} = \\begin{bmatrix}\n",
    "    \\color{red} 144.6 & \\color{red} 78.8 \\\\\n",
    "    \\color{blue} 194.6 & \\color{blue} 67.2 \\\\\n",
    "    214.8 &  108.6 \\\\\n",
    "\\end{bmatrix}$\n",
    "\n",
    "Detection\\\n",
    "![alt text](det.png \"Title\")\n",
    "\n",
    "$\\mathbf{D} = \\begin{bmatrix}\n",
    "    147.9 & 84.5 \\\\\n",
    "    189.2 & 76.1 \\\\\n",
    "    210.7 & 103.8 \\\\\n",
    "    313.1 & 122.0 \\\\\n",
    "\\end{bmatrix}$\n",
    "\n",
    "\n",
    "Note: pred & det are indexed from left to right (& top to bottom)"
   ]
  },
  {
   "cell_type": "code",
   "execution_count": 18,
   "metadata": {},
   "outputs": [],
   "source": [
    "pred = np.array([\n",
    "    [144.6, 78.8],\n",
    "    [194.6, 67.2],\n",
    "    [214.8, 108.6]\n",
    "])\n",
    "\n",
    "det = np.array([\n",
    "    [147.9, 84.5],\n",
    "    [189.2, 76.1],\n",
    "    [210.7, 103.8],\n",
    "    [313.1, 122.0]\n",
    "])"
   ]
  },
  {
   "cell_type": "code",
   "execution_count": 26,
   "metadata": {},
   "outputs": [
    {
     "name": "stdout",
     "output_type": "stream",
     "text": [
      "pred \t\t\t det \t\t\t distance\n",
      "[214.8 108.6] \t\t [210.7 103.8] \t\t 6.3126856408346645\n",
      "[144.6  78.8] \t\t [147.9  84.5] \t\t 6.586349520030053\n",
      "[194.6  67.2] \t\t [189.2  76.1] \t\t 10.410091258005375\n"
     ]
    }
   ],
   "source": [
    "matches = greedy(pred, det, threshold=15.)\n",
    "print('pred \\t\\t\\t det \\t\\t\\t distance')\n",
    "for (i, j) in matches:\n",
    "    print(f'{pred[i]} \\t\\t {det[j]} \\t\\t {np.linalg.norm(pred[i] - det[j])}')"
   ]
  },
  {
   "attachments": {},
   "cell_type": "markdown",
   "metadata": {},
   "source": [
    "## Execution Time comparison"
   ]
  },
  {
   "cell_type": "code",
   "execution_count": 28,
   "metadata": {},
   "outputs": [
    {
     "name": "stdout",
     "output_type": "stream",
     "text": [
      "sequential cost: 0.0005476474761962891 seconds\n",
      "vectorized cost: 0.00023674964904785156 seconds\n"
     ]
    }
   ],
   "source": [
    "tic = time()\n",
    "matches = greedy(pred, det, threshold=15., mode='sequential')\n",
    "tac = time()\n",
    "print(f'sequential cost: {tac - tic} seconds')\n",
    "\n",
    "tic = time()\n",
    "matches = greedy(pred, det, threshold=15., mode='vectorized')\n",
    "tac = time()\n",
    "print(f'vectorized cost: {tac - tic} seconds')"
   ]
  },
  {
   "cell_type": "code",
   "execution_count": null,
   "metadata": {},
   "outputs": [],
   "source": [
    "times_seq, times_vec = list(), list()\n",
    "sizes = [10, 100, 1000, 10000]\n",
    "for n in sizes:\n",
    "    pred = np.random.rand(n, 3)\n",
    "    det = np.random.rand(n, 3)\n",
    "    \n",
    "    tic = time()\n",
    "    _ = greedy(pred, det, threshold=15., mode='sequential')\n",
    "    tac = time()\n",
    "    times_seq.append(tac - tic)\n",
    "\n",
    "    tic = time()\n",
    "    _ = greedy(pred, det, threshold=15., mode='vectorized')\n",
    "    tac = time()\n",
    "    times_vec.append(tac - tic)\n",
    "\n",
    "fig, ax = plt.subplots()\n",
    "ax.plot(sizes, times_seq, label='seq')\n",
    "ax.plot(sizes, times_vec, label='vec')"
   ]
  },
  {
   "attachments": {},
   "cell_type": "markdown",
   "metadata": {},
   "source": []
  },
  {
   "cell_type": "code",
   "execution_count": null,
   "metadata": {},
   "outputs": [],
   "source": []
  },
  {
   "cell_type": "code",
   "execution_count": null,
   "metadata": {},
   "outputs": [],
   "source": []
  },
  {
   "cell_type": "code",
   "execution_count": null,
   "metadata": {},
   "outputs": [],
   "source": []
  },
  {
   "cell_type": "code",
   "execution_count": null,
   "metadata": {},
   "outputs": [],
   "source": []
  },
  {
   "cell_type": "markdown",
   "metadata": {},
   "source": []
  }
 ],
 "metadata": {
  "kernelspec": {
   "display_name": "openpcdet",
   "language": "python",
   "name": "python3"
  },
  "language_info": {
   "codemirror_mode": {
    "name": "ipython",
    "version": 3
   },
   "file_extension": ".py",
   "mimetype": "text/x-python",
   "name": "python",
   "nbconvert_exporter": "python",
   "pygments_lexer": "ipython3",
   "version": "3.8.13"
  },
  "orig_nbformat": 4
 },
 "nbformat": 4,
 "nbformat_minor": 2
}
